{
 "cells": [
  {
   "cell_type": "code",
   "execution_count": 1,
   "metadata": {},
   "outputs": [],
   "source": [
    "import sys\n",
    "sys.path.append('./rkr_gst_helpers')"
   ]
  },
  {
   "cell_type": "code",
   "execution_count": 2,
   "metadata": {},
   "outputs": [],
   "source": [
    "from rkr_gst_helpers.rkr_gst import rkr_gst\n",
    "from rkr_gst_helpers.manage_tokens import ManageTokens\n",
    "import math\n",
    "import pickle"
   ]
  },
  {
   "cell_type": "code",
   "execution_count": 3,
   "metadata": {},
   "outputs": [],
   "source": [
    "#Example\n",
    "A = \"WASHINGTON  —   Congressional Republicans have a new fear when it comes to their    health care lawsuit against the Obama administration: They might win. The incoming Trump administration could choose to no longer defend the executive branch against the suit, which challenges the administration’s authority to spend billions of dollars on health insurance subsidies for   and   Americans, handing House Republicans a big victory on    issues. But a sudden loss of the disputed subsidies could conceivably cause the health care program to implode, leaving millions of people without access to health insurance before Republicans have prepared a replacement. That could lead to chaos in the insurance market and spur a political backlash just as Republicans gain full control of the government. To stave off that outcome, Republicans could find themselves in the awkward position of appropriating huge sums to temporarily prop up the Obama health care law, angering conservative voters who have been demanding an end to the law for years. In another twist, Donald J. Trump’s administration, worried about preserving executive branch prerogatives, could choose to fight its Republican allies in the House on some central questions in the dispute. Eager to avoid an ugly political pileup, Republicans on Capitol Hill and the Trump transition team are gaming out how to handle the lawsuit, which, after the election, has been put in limbo until at least late February by the United States Court of Appeals for the District of Columbia Circuit. They are not yet ready to divulge their strategy. “Given that this pending litigation involves the Obama administration and Congress, it would be inappropriate to comment,” said Phillip J. Blando, a spokesman for the Trump transition effort. “Upon taking office, the Trump administration will evaluate this case and all related aspects of the Affordable Care Act. ” In a potentially   decision in 2015, Judge Rosemary M. Collyer ruled that House Republicans had the standing to sue the executive branch over a spending dispute and that the Obama administration had been distributing the health insurance subsidies, in violation of the Constitution, without approval from Congress. The Justice Department, confident that Judge Collyer’s decision would be reversed, quickly appealed, and the subsidies have remained in place during the appeal. In successfully seeking a temporary halt in the proceedings after Mr. Trump won, House Republicans last month told the court that they “and the  ’s transition team currently are discussing potential options for resolution of this matter, to take effect after the  ’s inauguration on Jan. 20, 2017. ” The suspension of the case, House lawyers said, will “provide the   and his future administration time to consider whether to continue prosecuting or to otherwise resolve this appeal. ” Republican leadership officials in the House acknowledge the possibility of “cascading effects” if the   payments, which have totaled an estimated $13 billion, are suddenly stopped. Insurers that receive the subsidies in exchange for paying    costs such as deductibles and   for eligible consumers could race to drop coverage since they would be losing money. Over all, the loss of the subsidies could destabilize the entire program and cause a lack of confidence that leads other insurers to seek a quick exit as well. Anticipating that the Trump administration might not be inclined to mount a vigorous fight against the House Republicans given the  ’s dim view of the health care law, a team of lawyers this month sought to intervene in the case on behalf of two participants in the health care program. In their request, the lawyers predicted that a deal between House Republicans and the new administration to dismiss or settle the case “will produce devastating consequences for the individuals who receive these reductions, as well as for the nation’s health insurance and health care systems generally. ” No matter what happens, House Republicans say, they want to prevail on two overarching concepts: the congressional power of the purse, and the right of Congress to sue the executive branch if it violates the Constitution regarding that spending power. House Republicans contend that Congress never appropriated the money for the subsidies, as required by the Constitution. In the suit, which was initially championed by John A. Boehner, the House speaker at the time, and later in House committee reports, Republicans asserted that the administration, desperate for the funding, had required the Treasury Department to provide it despite widespread internal skepticism that the spending was proper. The White House said that the spending was a permanent part of the law passed in 2010, and that no annual appropriation was required  —   even though the administration initially sought one. Just as important to House Republicans, Judge Collyer found that Congress had the standing to sue the White House on this issue  —   a ruling that many legal experts said was flawed  —   and they want that precedent to be set to restore congressional leverage over the executive branch. But on spending power and standing, the Trump administration may come under pressure from advocates of presidential authority to fight the House no matter their shared views on health care, since those precedents could have broad repercussions. It is a complicated set of dynamics illustrating how a quick legal victory for the House in the Trump era might come with costs that Republicans never anticipated when they took on the Obama White House.\"\n",
    "B = \"Death may be the great equalizer, but it isn’t necessarily evenhanded. Of all the fields of endeavor that suffered mortal losses in 2016  —   consider Muhammad Ali and Arnold Palmer in sports and the      Hollywood deaths of Carrie Fisher and Debbie Reynolds  —   the pop music world had, hands down, the bleakest year. Start with David Bowie, whose stage persona  —   androgynous glam rocker, dance pop star, electronic experimentalist  —   was as   as his music. The year was only days old when the news came that he had died of cancer at 69. He had hinted that his time was short in the lyrics of his final album, released just two days before his death, but he had otherwise gone to great lengths to hide his illness from the public, a wish for privacy that ensured that his death would appear to have come out of the blue. Then came another shock, about three months later, when Prince accidentally overdosed on a painkiller and collapsed in an elevator at his sprawling home studio near Minneapolis. Death came to him at 57, and by all indications no one, including Prince Rogers Nelson, had seen it coming. As energetic onstage as ever, holding to an otherwise healthy regimen, he had successfully defied age into his sixth decade, so why not death, too? Leonard Cohen, on the other hand, in his 83rd year, undoubtedly did see it coming, just over his shoulder, but he went on his  —   I hesitate to say merry  —   way, ever the wise,   troubadour playing to sellout crowds and shrugging at the inevitable, knowing that the dark would finally overtake him but saying essentially, “Until then, here’s another song. ” It was as if 2016 hadn’t delivered enough jolts to the system when it closed out the year with yet another   death. George Michael, the 1980s sensation whose aura had dimmed in later years, was 53 when he went to bed and never woke up on Christmas. Pop music figures fell all year, many of their voices still embedded in the nicked vinyl grooves of old records that a lot of people can’t bear to throw out. The roster included Paul Kantner of Jefferson Airplane Keith Emerson and Greg Lake of Emerson, Lake and Palmer Glenn Frey of the Eagles and Maurice White of Earth, Wind  Fire. Leon Russell, the piano pounder with a Delta blues wail and a mountain man’s mass of hair, died. So did Merle Haggard, rugged country poet of the common man and the   outlaw. He was joined by the bluegrass legend Ralph Stanley and the guitar virtuoso who was practically glued to Elvis’s swiveling hips in the early days: Scotty Moore. And then there was George Martin, whose   genius had such a creative influence on the sounds of John, Paul, George and Ringo (and, by extension, on the entire rock era) that he was hailed as the fifth Beatle. If the music stars could fill arenas, so could idols of another stripe: the mighty athletes who left the scene. No figure among them was as towering as Ali. Some called him the greatest sports figure of the 20th century, the boxer who combined power, grace and brains in a way the ring had never seen. But he was more than a great athlete. Matters of war, race and religion coursed through his life in a publicly turbulent way. Some people hated him when he refused to be drafted during the Vietnam War, a decision that cost him his heavyweight title. But more people admired him, even loved him, for his principled stands, his high spirits, his lightning mind, his winking   and, yes, his rhyming motormouth. Until illness closed in, little could contain him, certainly not mere ropes around a ring. Palmer, too, was transformational, golf’s first media star. The gentleman’s game was never quite the same after he began gathering an army on the rolling greenswards and leading a charge, his shirt coming untucked, a cigarette dangling from his lips, his club just that, a weapon, as he pressed the attack. An entire generation of   postwar guys took up the game because of Arnie, and not a few women did, too. He was athletically blessed, magnetically cool, telegenically handsome  —   but he was somehow one of them, too. The same was said of Gordie Howe, Mr. Hockey, a son of the Saskatchewan prairie who tore up the National Hockey League, hung up his skates at 52 and died at 88 and of Ralph Branca, a trolley car conductor’s son who was a living reminder that one crushing mistake  —   his, the fastball to Bobby Thomson that decided the 1951 National League pennant  —   can sometimes never be lived down. Pat Summitt, the coach who elevated women’s basketball, led her Tennessee teams to eight championships and won more games than any other college coach, could not defeat Alzheimer’s disease, dying at 64. And within months the National Basketball Association lost two giants from different eras. Clyde Lovelette, an Olympic, college and N. B. A. champion who transformed the game as one of its first truly big men, was 86 his hardwood heir Nate Thurmond, a defensive stalwart who battled Russell, Wilt and Kareem in the paint in a   Hall of Fame career, was 74. Even older, in the baseball ranks, was Monte Irvin. When he died at 96, there were few people still around who could remember watching him play, particularly in his prime, in the 1940s, when he was a star on the Negro circuit but barred from the   major leagues. He made the Hall of Fame anyway as a New York Giant and became Major League Baseball’s first black executive, but when he died, fans pondered again the question that has hung over many an athletic career shackled by discrimination: What if? A different question, in an entirely different sphere, arose after the stunning news that Justice Antonin Scalia had died on a hunting trip in Texas: What now? In the thick of one of the most consequential Supreme Court careers of modern times, he left a void in conservative jurisprudence and, more urgently, a vacancy on the bench that has yet to be filled, raising still more questions about what may await the country. Other exits from the public stage returned us to the past. Nancy Reagan’s death evoked the 1980s White House, where   glamour and   West Coast conservatism took up residence on the banks of the Potomac. John Glenn’s had us thinking again about a   burst of national pride soaring into outer space. The deaths of Tom Hayden and Daniel Berrigan, avatars of defiance, harked back to the student rebellions of the 1960s and the Vietnam War’s roiling home front. Phyllis Schlafly’s obituaries were windows on the roots of the right wing’s ascension in American politics. The death of Janet Reno, the first woman to serve as attorney general, recalled the Clinton years, all eight of them, from the firestorm at Waco, Tex. to the international tug of war over a Cuban boy named Elián González, to the bitter Senate battle over impeachment. On other shores, Fidel Castro’s death at 90 summoned memories of Cuban revolution, nuclear brinkmanship and enduring enmity between a   strongman and the superpower only 90 miles away. The name of Boutros   the Egyptian diplomat who led the United Nations, led to replayed nightmares of genocide in Rwanda and Bosnia. The death of Shimon Peres removed a last link to the very founding of Israel and conjured decades of growing military power and fitful strivings for peace. And that of Elie Wiesel, in New York, after his tireless struggle to compel the world never to forget, made us confront once again the gas chambers of Auschwitz. If writers, too, are   even in fiction, then the world is poorer without the literary voices of Harper Lee, Umberto Eco, Pat Conroy, Jim Harrison, Anita Brookner, Alvin Toffler, Gloria Naylor and William Trevor, not to mention the playwrights Peter Shaffer, Dario Fo and,   Edward Albee  —   all dead in 2016. But just as treasured were those who spun   for our viewing pleasure  —   none more lustily than Ms. Fisher, the     Princess Leia of the “Star Wars” tales. Just a day later, capping a year of startling deaths, Ms. Reynolds, a singing and acting leading lady of an earlier era, died at 84 in the throes of a mother’s grief. Devotees of the “Harry Potter” movies were saddened by the death of Alan Rickman, who played the deliciously dour professor Severus Snape in that blockbuster franchise but whose career, on both stage and screen, was far richer than many of Snape’s younger fans may have known. Zsa Zsa Gabor’s celebrity, by contrast, outshone a modest acting career. Gene Wilder and Garry Shandling died in the same year, both having perfected a brand of hilariously neurotic comedy fit for a   culture. And this time Abe Vigoda, of the “Godfather” movies and “Barney Miller,” actually did die, after having not actually done so years ago when wildly uninformed people spread the word that he had. On the other side of the camera were directors whose vision came to us from all parts: Jacques Rivette, the French New Wave auteur, with his   meditations on life and art Abbas Kiarostami, the Iranian master, with his searching examinations of ordinary lives Andrzej Wajda, a rival to Ingmar Bergman and Akira Kurosawa in some critics’ eyes, with his haunting tales of Poland under the boot first of Nazis and then of Communists. A long roster of television stars of a generation or two ago passed on, images of their younger selves frozen in time: Noel Neill (“Adventures of Superman”) Alan Young (“Mister Ed”) Robert Vaughn (“The Man From U. N. C. L. E. ”) William Schallert and Patty Duke (father and daughter on “The Patty Duke Show”) Dan Haggerty (“The Life and Times of Grizzly Adams”) Florence Henderson (“The Brady Bunch”) and Alan Thicke (“Growing Pains”). And Garry Marshall, the creative force who practically owned prime time with “Happy Days,” “Mork  Mindy,” “Laverne  Shirley” and more, died at 81. On Broadway, lights were dimmed in memory of Brian Bedford, Tammy Grimes and Anne Jackson, all brilliant in their day. The architect Zaha Hadid left behind monuments to her fertile imagination and shaken acolytes around the world. The street photographer Bill Cunningham, who found fashion statements on every corner, was suddenly missing, making Manhattan, overnight, a less idiosyncratic, less interesting place. That smiling skinny man pedaling his bicycle among the honking cabs in a blue French worker’s jacket with a camera slung around his neck  —   what a picture!  —   had split from the scene. So had seemingly a generation of fellow photographers who had made art in recording the last half of the 20th century: Ruth Gruber, Marc Riboud, Louis Stettner and more. And so had the TV journalists Morley Safer and Gwen Ifill and the TV commentator John McLaughlin, all of whom had tried to make sense of it. Music’s other precincts were emptier without the conductor and revolutionary composer Pierre Boulez and the new music soprano Phyllis Curtin the jazz artists Mose Allison, Bobby Hutcherson and Gato Barbieri the rapper Phife Dawg (Malik Taylor) and the Latin megastar Juan Gabriel. Silicon Valley saw a giant depart in Andrew S. Grove, who led the semiconductor revolution at Intel. The television industry lost a   executive, Grant Tinker, who in the ’80s made NBC the network to watch in prime time. Astrophysics, and the smaller world of women in science, said farewell to a pioneer and a champion in Vera Rubin. And for tens of thousands of people who might have choked to death had they not been saved by his simple but ingenious maneuver, the passing of Henry J. Heimlich prompted not just sympathy but, even more, gratitude. Come to think of it, eliciting a large, if silent, thank you from those who live on is not a bad way for anyone to go. Which brings us to Marion Pritchard. Few who died in 2016 could have inspired measures of gratitude more profound. She was a brave young Dutch student and a   gentile who risked her life to save Jews from death camps in the early 1940s, in one instance shooting a Nazi stooge before he could seize three little children she had been hiding. By her estimate she saved 150 people. How many were still alive when she died a few weeks ago at 96 is anyone’s guess. But we know for certain that some were, and we can reasonably surmise that a good many more were, too, all of them still in possession of her selfless gift and her matchless legacy, their very lives.\"\n",
    "test = \"Congressional Republicans have a new fear that Death may be the great equalizer, but it isn’t necessarily evenhanded.  When it comes to their authority to fight the House no matter their shared views on health care.\"\n",
    "\n"
   ]
  },
  {
   "cell_type": "code",
   "execution_count": 5,
   "metadata": {},
   "outputs": [],
   "source": [
    "#right answer\n",
    "\n",
    "A1 = {\"passage\":\"Congressional Republicans have a new fear when it comes to their\", \"from\": \"Doc A\"}\n",
    "A2 = {\"passage\": \"When it comes to their\", \"from\": \"Doc A\" }\n",
    "A3 = {\"passage\": \"authority to fight the House no matter their shared views on health care\", \"from\": \"Doc A\"}\n",
    "A4 = {\"passage\": \"Death may be the great equalizer, but it isn’t necessarily evenhanded\", \"from\": \"Doc B\"}"
   ]
  },
  {
   "cell_type": "code",
   "execution_count": 6,
   "metadata": {},
   "outputs": [],
   "source": [
    "#use spacy pre-processing first\n",
    "\n",
    "\n",
    "article = [str.strip() for str in A.split(' ') if str != '']\n",
    "test_sentence = [str.strip() for str in B.split(' ') if str != '']\n"
   ]
  },
  {
   "cell_type": "code",
   "execution_count": 7,
   "metadata": {},
   "outputs": [],
   "source": [
    "mininum_match_length = 4  # default: 3\n",
    "initial_search_size = 8  # default: 20"
   ]
  },
  {
   "cell_type": "code",
   "execution_count": 8,
   "metadata": {},
   "outputs": [],
   "source": [
    "mantok_t = ManageTokens(article)\n",
    "mantok_p = ManageTokens(test_sentence)"
   ]
  },
  {
   "cell_type": "code",
   "execution_count": 9,
   "metadata": {},
   "outputs": [],
   "source": [
    "rkr_gst(mantok_t, mantok_p, mininum_match_length, initial_search_size)\n"
   ]
  },
  {
   "cell_type": "code",
   "execution_count": 10,
   "metadata": {},
   "outputs": [
    {
     "name": "stdout",
     "output_type": "stream",
     "text": [
      "0.0\n"
     ]
    }
   ],
   "source": [
    "tiles = {}\n",
    "i = 0\n",
    "for token in mantok_t.is_marked:\n",
    "    if token:\n",
    "        i += 1\n",
    "    elif not token and i > 0:\n",
    "        if i in tiles:\n",
    "            tiles[i] += 1\n",
    "        else:\n",
    "            tiles[i] = 1\n",
    "        i = 0\n",
    "\n",
    "normalization = (mantok_t.length_of_tokens + mantok_p.length_of_tokens)/2.0\n",
    "similarity = 0\n",
    "for tile_length, total in tiles.items():\n",
    "    similarity += total*tile_length*math.log(tile_length + 1)\n",
    "\n",
    "normalized_similarity = similarity/normalization\n",
    "\n",
    "print(normalized_similarity)"
   ]
  },
  {
   "cell_type": "code",
   "execution_count": 11,
   "metadata": {},
   "outputs": [
    {
     "data": {
      "text/plain": [
       "884"
      ]
     },
     "execution_count": 11,
     "metadata": {},
     "output_type": "execute_result"
    }
   ],
   "source": [
    "mantok_t.length_of_tokens"
   ]
  },
  {
   "cell_type": "code",
   "execution_count": 12,
   "metadata": {},
   "outputs": [
    {
     "data": {
      "text/plain": [
       "24"
      ]
     },
     "execution_count": 12,
     "metadata": {},
     "output_type": "execute_result"
    }
   ],
   "source": [
    "mantok_p.length_of_tokens"
   ]
  },
  {
   "cell_type": "code",
   "execution_count": 21,
   "metadata": {},
   "outputs": [
    {
     "data": {
      "text/plain": [
       "{11: 1, 12: 1}"
      ]
     },
     "execution_count": 21,
     "metadata": {},
     "output_type": "execute_result"
    }
   ],
   "source": [
    "tiles"
   ]
  },
  {
   "cell_type": "code",
   "execution_count": 26,
   "metadata": {},
   "outputs": [
    {
     "data": {
      "text/plain": [
       "{11: 1, 12: 1}"
      ]
     },
     "execution_count": 26,
     "metadata": {},
     "output_type": "execute_result"
    }
   ],
   "source": [
    "tiles"
   ]
  },
  {
   "cell_type": "code",
   "execution_count": 25,
   "metadata": {},
   "outputs": [
    {
     "data": {
      "text/plain": [
       "'authority'"
      ]
     },
     "execution_count": 25,
     "metadata": {},
     "output_type": "execute_result"
    }
   ],
   "source": [
    "mantok_p.tokens[11]"
   ]
  },
  {
   "cell_type": "code",
   "execution_count": null,
   "metadata": {},
   "outputs": [],
   "source": []
  }
 ],
 "metadata": {
  "kernelspec": {
   "display_name": "Python 3",
   "language": "python",
   "name": "python3"
  },
  "language_info": {
   "codemirror_mode": {
    "name": "ipython",
    "version": 3
   },
   "file_extension": ".py",
   "mimetype": "text/x-python",
   "name": "python",
   "nbconvert_exporter": "python",
   "pygments_lexer": "ipython3",
   "version": "3.8.5"
  }
 },
 "nbformat": 4,
 "nbformat_minor": 4
}
